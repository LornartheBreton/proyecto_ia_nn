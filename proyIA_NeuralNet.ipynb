{
 "cells": [
  {
   "cell_type": "markdown",
   "metadata": {},
   "source": [
    "# Proyecto IA - Redes neuronales"
   ]
  },
  {
   "cell_type": "markdown",
   "metadata": {},
   "source": [
    "Ernesto Anaya - 190656 | Héctor G. T. Torres - 191589\n",
    "\n"
   ]
  },
  {
   "cell_type": "code",
   "execution_count": 1,
   "metadata": {},
   "outputs": [
    {
     "data": {
      "text/plain": [
       "'2.4.3'"
      ]
     },
     "execution_count": 1,
     "metadata": {},
     "output_type": "execute_result"
    }
   ],
   "source": [
    "import keras\n",
    "from sklearn.metrics import classification_report\n",
    "from sklearn.metrics import confusion_matrix\n",
    "import numpy as np\n",
    "import seaborn as sns\n",
    "from keras.utils import to_categorical\n",
    "from keras import models\n",
    "from keras import layers\n",
    "from matplotlib import pyplot as plt\n",
    "keras.__version__"
   ]
  },
  {
   "cell_type": "code",
   "execution_count": 2,
   "metadata": {},
   "outputs": [],
   "source": [
    "from keras.datasets import mnist\n",
    "\n",
    "(train_images, train_labels), (test_images, test_labels) = mnist.load_data()"
   ]
  },
  {
   "cell_type": "markdown",
   "metadata": {},
   "source": [
    "Se dividió el conjunto de prueba en dos: 20% para crear un conjunto de validación, 80% se mantuvo como conjunto de prueba."
   ]
  },
  {
   "cell_type": "code",
   "execution_count": 3,
   "metadata": {},
   "outputs": [],
   "source": [
    "train_images = train_images.reshape((60000, 28 * 28))\n",
    "train_images = train_images.astype('float32') / 255\n",
    "\n",
    "test_images = test_images.reshape((10000, 28 * 28))\n",
    "test_images = test_images.astype('float32') / 255\n",
    "\n",
    "validation_images = test_images[8000:]\n",
    "test_images = test_images[:8000]"
   ]
  },
  {
   "cell_type": "code",
   "execution_count": 4,
   "metadata": {},
   "outputs": [],
   "source": [
    "train_labels = to_categorical(train_labels)\n",
    "test_labels = to_categorical(test_labels)\n",
    "\n",
    "validation_labels = test_labels[8000:]\n",
    "test_labels = test_labels[:8000]"
   ]
  },
  {
   "cell_type": "markdown",
   "metadata": {},
   "source": [
    "## Red Default: 1 capa de 512 neuronas - RMSprop"
   ]
  },
  {
   "cell_type": "code",
   "execution_count": 5,
   "metadata": {},
   "outputs": [],
   "source": [
    "network = models.Sequential()\n",
    "network.add(layers.Dense(512, activation='relu', input_shape=(28 * 28,)))\n",
    "network.add(layers.Dense(10, activation='softmax'))"
   ]
  },
  {
   "cell_type": "code",
   "execution_count": 6,
   "metadata": {},
   "outputs": [],
   "source": [
    "network.compile(optimizer='rmsprop',\n",
    "                loss='categorical_crossentropy',\n",
    "                metrics=['accuracy'])"
   ]
  },
  {
   "cell_type": "code",
   "execution_count": 7,
   "metadata": {
    "scrolled": false
   },
   "outputs": [
    {
     "name": "stdout",
     "output_type": "stream",
     "text": [
      "Epoch 1/5\n",
      "469/469 [==============================] - 2s 3ms/step - loss: 0.4248 - accuracy: 0.8742 - val_loss: 0.1010 - val_accuracy: 0.9675\n",
      "Epoch 2/5\n",
      "469/469 [==============================] - 1s 3ms/step - loss: 0.1113 - accuracy: 0.9683 - val_loss: 0.0754 - val_accuracy: 0.9770\n",
      "Epoch 3/5\n",
      "469/469 [==============================] - 1s 3ms/step - loss: 0.0708 - accuracy: 0.9789 - val_loss: 0.0588 - val_accuracy: 0.9800\n",
      "Epoch 4/5\n",
      "469/469 [==============================] - 1s 3ms/step - loss: 0.0456 - accuracy: 0.9863 - val_loss: 0.0494 - val_accuracy: 0.9865\n",
      "Epoch 5/5\n",
      "469/469 [==============================] - 1s 3ms/step - loss: 0.0342 - accuracy: 0.9899 - val_loss: 0.0504 - val_accuracy: 0.9840\n"
     ]
    }
   ],
   "source": [
    "history = network.fit(train_images, train_labels, \n",
    "                      epochs=5, batch_size=128,\n",
    "                     validation_data=(validation_images,validation_labels))"
   ]
  },
  {
   "cell_type": "code",
   "execution_count": 8,
   "metadata": {
    "scrolled": true
   },
   "outputs": [
    {
     "name": "stdout",
     "output_type": "stream",
     "text": [
      "250/250 [==============================] - 0s 957us/step - loss: 0.0686 - accuracy: 0.9804\n"
     ]
    }
   ],
   "source": [
    "test_loss, test_acc = network.evaluate(test_images, test_labels)"
   ]
  },
  {
   "cell_type": "markdown",
   "metadata": {},
   "source": [
    "### Accuracy"
   ]
  },
  {
   "cell_type": "code",
   "execution_count": 9,
   "metadata": {},
   "outputs": [
    {
     "name": "stdout",
     "output_type": "stream",
     "text": [
      "test_acc: 0.9803749918937683\n"
     ]
    }
   ],
   "source": [
    "print('test_acc:', test_acc)"
   ]
  },
  {
   "cell_type": "markdown",
   "metadata": {},
   "source": [
    "### Matriz de confusión"
   ]
  },
  {
   "cell_type": "code",
   "execution_count": 10,
   "metadata": {},
   "outputs": [],
   "source": [
    "test_predictions = network.predict(test_images)"
   ]
  },
  {
   "cell_type": "code",
   "execution_count": 11,
   "metadata": {},
   "outputs": [],
   "source": [
    "conf = confusion_matrix(np.argmax(test_labels,axis=1), \n",
    "                             np.argmax(test_predictions,axis=1))\n"
   ]
  },
  {
   "cell_type": "code",
   "execution_count": 12,
   "metadata": {
    "scrolled": false
   },
   "outputs": [
    {
     "data": {
      "text/plain": [
       "<AxesSubplot:>"
      ]
     },
     "execution_count": 12,
     "metadata": {},
     "output_type": "execute_result"
    },
    {
     "data": {
      "image/png": "[encoded data removed]",
      "text/plain": [
       "<Figure size 432x288 with 2 Axes>"
      ]
     },
     "metadata": {
      "needs_background": "light"
     },
     "output_type": "display_data"
    }
   ],
   "source": [
    "sns.heatmap(conf, annot=True)"
   ]
  },
  {
   "cell_type": "markdown",
   "metadata": {},
   "source": [
    "## Dígito mejor clasificado (el del índice 1)"
   ]
  },
  {
   "cell_type": "code",
   "execution_count": 13,
   "metadata": {
    "scrolled": true
   },
   "outputs": [
    {
     "name": "stdout",
     "output_type": "stream",
     "text": [
      "              precision    recall  f1-score   support\n",
      "\n",
      "           0   0.979592  0.993532  0.986513       773\n",
      "           1   0.986755  0.987845  0.987300       905\n",
      "           2   0.973810  0.980815  0.977300       834\n",
      "           3   0.989861  0.972603  0.981156       803\n",
      "           4   0.977387  0.987310  0.982323       788\n",
      "           5   0.976712  0.986169  0.981418       723\n",
      "           6   0.986720  0.982804  0.984758       756\n",
      "           7   0.985019  0.970480  0.977695       813\n",
      "           8   0.966165  0.979670  0.972871       787\n",
      "           9   0.981320  0.963325  0.972239       818\n",
      "\n",
      "    accuracy                       0.980375      8000\n",
      "   macro avg   0.980334  0.980455  0.980357      8000\n",
      "weighted avg   0.980434  0.980375  0.980367      8000\n",
      "\n"
     ]
    },
    {
     "name": "stderr",
     "output_type": "stream",
     "text": [
      "/home/lornarthebreton/.local/lib/python3.8/site-packages/tensorflow/python/keras/engine/sequential.py:450: UserWarning: `model.predict_classes()` is deprecated and will be removed after 2021-01-01. Please use instead:* `np.argmax(model.predict(x), axis=-1)`,   if your model does multi-class classification   (e.g. if it uses a `softmax` last-layer activation).* `(model.predict(x) > 0.5).astype(\"int32\")`,   if your model does binary classification   (e.g. if it uses a `sigmoid` last-layer activation).\n",
      "  warnings.warn('`model.predict_classes()` is deprecated and '\n"
     ]
    }
   ],
   "source": [
    "y_test = np.argmax(test_labels, axis=1)\n",
    "y_pred = network.predict_classes(test_images)\n",
    "print(classification_report(y_test, y_pred,  digits=6))"
   ]
  },
  {
   "cell_type": "markdown",
   "metadata": {},
   "source": [
    "### Loss vs. Epoch"
   ]
  },
  {
   "cell_type": "code",
   "execution_count": 14,
   "metadata": {},
   "outputs": [
    {
     "data": {
      "image/png": "[encoded data removed]",
      "text/plain": [
       "<Figure size 432x288 with 1 Axes>"
      ]
     },
     "metadata": {
      "needs_background": "light"
     },
     "output_type": "display_data"
    },
    {
     "data": {
      "image/png": "[encoded data removed]",
      "text/plain": [
       "<Figure size 432x288 with 1 Axes>"
      ]
     },
     "metadata": {
      "needs_background": "light"
     },
     "output_type": "display_data"
    }
   ],
   "source": [
    "acc = history.history['accuracy']\n",
    "val_acc = history.history['val_accuracy']\n",
    "acc = history.history['accuracy']\n",
    "loss = history.history['loss']\n",
    "\n",
    "epochs = range(1, len(acc)+1)\n",
    "\n",
    "plt.plot(epochs, acc, 'bo', label='Training Acc')\n",
    "plt.plot(epochs, val_acc, 'b', label='Validation acc')\n",
    "plt.title('Training and validation accuracy')\n",
    "plt.legend()\n",
    "\n",
    "plt.figure()\n",
    "\n",
    "plt.plot(epochs, loss, 'bo', label='Training loss')\n",
    "plt.title('Loss vs. Epochs')\n",
    "plt.legend()\n",
    "\n",
    "plt.show()"
   ]
  },
  {
   "cell_type": "markdown",
   "metadata": {},
   "source": [
    "## Red A: 2 capas de 128 neuronas - RMSprop"
   ]
  },
  {
   "cell_type": "code",
   "execution_count": 15,
   "metadata": {},
   "outputs": [],
   "source": [
    "networkA = models.Sequential()\n",
    "networkA.add(layers.Dense(128, activation='relu', input_shape=(28 * 28,)))\n",
    "networkA.add(layers.Dense(128, activation='relu', input_shape=(28 * 28,)))\n",
    "networkA.add(layers.Dense(10, activation='softmax'))"
   ]
  },
  {
   "cell_type": "code",
   "execution_count": 16,
   "metadata": {},
   "outputs": [],
   "source": [
    "networkA.compile(optimizer='rmsprop',\n",
    "                loss='categorical_crossentropy',\n",
    "                metrics=['accuracy'])"
   ]
  },
  {
   "cell_type": "code",
   "execution_count": 17,
   "metadata": {},
   "outputs": [
    {
     "name": "stdout",
     "output_type": "stream",
     "text": [
      "Epoch 1/5\n",
      "469/469 [==============================] - 1s 1ms/step - loss: 0.5237 - accuracy: 0.8508 - val_loss: 0.1146 - val_accuracy: 0.9645\n",
      "Epoch 2/5\n",
      "469/469 [==============================] - 1s 1ms/step - loss: 0.1394 - accuracy: 0.9586 - val_loss: 0.0921 - val_accuracy: 0.9750\n",
      "Epoch 3/5\n",
      "469/469 [==============================] - 1s 1ms/step - loss: 0.0918 - accuracy: 0.9722 - val_loss: 0.0881 - val_accuracy: 0.9720\n",
      "Epoch 4/5\n",
      "469/469 [==============================] - 1s 1ms/step - loss: 0.0665 - accuracy: 0.9789 - val_loss: 0.0618 - val_accuracy: 0.9800\n",
      "Epoch 5/5\n",
      "469/469 [==============================] - 1s 1ms/step - loss: 0.0525 - accuracy: 0.9837 - val_loss: 0.0643 - val_accuracy: 0.9835\n"
     ]
    }
   ],
   "source": [
    "historyA=networkA.fit(train_images, train_labels, \n",
    "                      epochs=5, batch_size=128,\n",
    "                     validation_data=(validation_images,validation_labels))"
   ]
  },
  {
   "cell_type": "code",
   "execution_count": 18,
   "metadata": {
    "scrolled": true
   },
   "outputs": [
    {
     "name": "stdout",
     "output_type": "stream",
     "text": [
      "250/250 [==============================] - 0s 677us/step - loss: 0.0841 - accuracy: 0.9756\n"
     ]
    }
   ],
   "source": [
    "test_lossA, test_accA = networkA.evaluate(test_images, test_labels)"
   ]
  },
  {
   "cell_type": "markdown",
   "metadata": {},
   "source": [
    "### Accuracy"
   ]
  },
  {
   "cell_type": "code",
   "execution_count": 19,
   "metadata": {},
   "outputs": [
    {
     "name": "stdout",
     "output_type": "stream",
     "text": [
      "test_acc: 0.9756249785423279\n"
     ]
    }
   ],
   "source": [
    "print('test_acc:', test_accA)"
   ]
  },
  {
   "cell_type": "markdown",
   "metadata": {},
   "source": [
    "### Loss vs. Epoch"
   ]
  },
  {
   "cell_type": "code",
   "execution_count": 20,
   "metadata": {},
   "outputs": [
    {
     "data": {
      "image/png": "[encoded data removed]",
      "text/plain": [
       "<Figure size 432x288 with 1 Axes>"
      ]
     },
     "metadata": {
      "needs_background": "light"
     },
     "output_type": "display_data"
    },
    {
     "data": {
      "image/png": "[encoded data removed]",
      "text/plain": [
       "<Figure size 432x288 with 1 Axes>"
      ]
     },
     "metadata": {
      "needs_background": "light"
     },
     "output_type": "display_data"
    }
   ],
   "source": [
    "acc = historyA.history['accuracy']\n",
    "val_acc = historyA.history['val_accuracy']\n",
    "acc = historyA.history['accuracy']\n",
    "loss = historyA.history['loss']\n",
    "\n",
    "epochs = range(1, len(acc)+1)\n",
    "\n",
    "plt.plot(epochs, acc, 'bo', label='Training Acc')\n",
    "plt.plot(epochs, val_acc, 'b', label='Validation acc')\n",
    "plt.title('Training and validation accuracy')\n",
    "plt.legend()\n",
    "\n",
    "plt.figure()\n",
    "\n",
    "plt.plot(epochs, loss, 'bo', label='Training loss')\n",
    "plt.title('Loss vs. Epochs')\n",
    "plt.legend()\n",
    "\n",
    "plt.show()"
   ]
  },
  {
   "cell_type": "markdown",
   "metadata": {},
   "source": [
    "### Matriz de Confusión"
   ]
  },
  {
   "cell_type": "code",
   "execution_count": 21,
   "metadata": {},
   "outputs": [],
   "source": [
    "test_predictionsA = networkA.predict(test_images)"
   ]
  },
  {
   "cell_type": "code",
   "execution_count": 22,
   "metadata": {},
   "outputs": [],
   "source": [
    "confA = confusion_matrix(np.argmax(test_labels,axis=1), \n",
    "                             np.argmax(test_predictionsA,axis=1))"
   ]
  },
  {
   "cell_type": "code",
   "execution_count": 23,
   "metadata": {
    "scrolled": true
   },
   "outputs": [
    {
     "data": {
      "text/plain": [
       "<AxesSubplot:>"
      ]
     },
     "execution_count": 23,
     "metadata": {},
     "output_type": "execute_result"
    },
    {
     "data": {
      "image/png": "[encoded data removed]",
      "text/plain": [
       "<Figure size 432x288 with 2 Axes>"
      ]
     },
     "metadata": {
      "needs_background": "light"
     },
     "output_type": "display_data"
    }
   ],
   "source": [
    "sns.heatmap(confA, annot=True)"
   ]
  },
  {
   "cell_type": "markdown",
   "metadata": {},
   "source": [
    "## Dígito mejor clasificado (el del índice 1)"
   ]
  },
  {
   "cell_type": "code",
   "execution_count": 24,
   "metadata": {
    "scrolled": true
   },
   "outputs": [
    {
     "name": "stdout",
     "output_type": "stream",
     "text": [
      "              precision    recall  f1-score   support\n",
      "\n",
      "           0   0.987030  0.984476  0.985751       773\n",
      "           1   0.983535  0.990055  0.986784       905\n",
      "           2   0.979592  0.978417  0.979004       834\n",
      "           3   0.981132  0.971357  0.976220       803\n",
      "           4   0.971106  0.980964  0.976010       788\n",
      "           5   0.995683  0.957123  0.976023       723\n",
      "           6   0.977543  0.978836  0.978189       756\n",
      "           7   0.975369  0.974170  0.974769       813\n",
      "           8   0.969191  0.959339  0.964240       787\n",
      "           9   0.940071  0.977995  0.958658       818\n",
      "\n",
      "    accuracy                       0.975625      8000\n",
      "   macro avg   0.976025  0.975273  0.975565      8000\n",
      "weighted avg   0.975843  0.975625  0.975652      8000\n",
      "\n"
     ]
    },
    {
     "name": "stderr",
     "output_type": "stream",
     "text": [
      "/home/lornarthebreton/.local/lib/python3.8/site-packages/tensorflow/python/keras/engine/sequential.py:450: UserWarning: `model.predict_classes()` is deprecated and will be removed after 2021-01-01. Please use instead:* `np.argmax(model.predict(x), axis=-1)`,   if your model does multi-class classification   (e.g. if it uses a `softmax` last-layer activation).* `(model.predict(x) > 0.5).astype(\"int32\")`,   if your model does binary classification   (e.g. if it uses a `sigmoid` last-layer activation).\n",
      "  warnings.warn('`model.predict_classes()` is deprecated and '\n"
     ]
    }
   ],
   "source": [
    "y_test = np.argmax(test_labels, axis=1)\n",
    "y_pred = networkA.predict_classes(test_images)\n",
    "print(classification_report(y_test, y_pred,  digits=6))"
   ]
  },
  {
   "cell_type": "markdown",
   "metadata": {},
   "source": [
    "### Conclusiones"
   ]
  },
  {
   "cell_type": "markdown",
   "metadata": {},
   "source": [
    "Se puede observar que, tanto en la red neuronal default como en la de dos capas de 128 neuronas hay overfitting, y es peor en la segunda que en la primera. Aunado esto con el hecho de que la test_accuracy de la segunda es menor a la primera, es claro que el mejor modelo entre los dos es el primero. \n",
    "\n",
    "Probablemente el hecho de que tenga más capas con menos neuronas por capa hace que la función resultante esté más adaptada al conjunto de entrenamiento que el contraparte default. Por ello, se plantea la hipótesis que la cantidad de capas en la red es inversamente proporcional a la magnitud de su overfitting.\n",
    "\n",
    "La gráfica de Loss vs. Epoch es similar en ambas redes."
   ]
  },
  {
   "cell_type": "markdown",
   "metadata": {},
   "source": [
    "## Red B: 1 capa de 512 neuronas - Adam"
   ]
  },
  {
   "cell_type": "code",
   "execution_count": 25,
   "metadata": {},
   "outputs": [],
   "source": [
    "networkB = models.Sequential()\n",
    "networkB.add(layers.Dense(512, activation='relu', input_shape=(28 * 28,)))\n",
    "networkB.add(layers.Dense(10, activation='softmax'))"
   ]
  },
  {
   "cell_type": "code",
   "execution_count": 26,
   "metadata": {},
   "outputs": [],
   "source": [
    "networkB.compile(optimizer='adam',\n",
    "                loss='categorical_crossentropy',\n",
    "                metrics=['accuracy'])"
   ]
  },
  {
   "cell_type": "code",
   "execution_count": 27,
   "metadata": {},
   "outputs": [
    {
     "name": "stdout",
     "output_type": "stream",
     "text": [
      "Epoch 1/5\n",
      "469/469 [==============================] - 1s 2ms/step - loss: 0.4662 - accuracy: 0.8658 - val_loss: 0.0975 - val_accuracy: 0.9700\n",
      "Epoch 2/5\n",
      "469/469 [==============================] - 1s 2ms/step - loss: 0.1146 - accuracy: 0.9669 - val_loss: 0.0811 - val_accuracy: 0.9760\n",
      "Epoch 3/5\n",
      "469/469 [==============================] - 1s 2ms/step - loss: 0.0711 - accuracy: 0.9793 - val_loss: 0.0635 - val_accuracy: 0.9805\n",
      "Epoch 4/5\n",
      "469/469 [==============================] - 1s 2ms/step - loss: 0.0500 - accuracy: 0.9856 - val_loss: 0.0550 - val_accuracy: 0.9840\n",
      "Epoch 5/5\n",
      "469/469 [==============================] - 1s 2ms/step - loss: 0.0369 - accuracy: 0.9890 - val_loss: 0.0440 - val_accuracy: 0.9850\n"
     ]
    }
   ],
   "source": [
    "historyB = networkB.fit(train_images, train_labels, \n",
    "                      epochs=5, batch_size=128,\n",
    "                     validation_data=(validation_images,validation_labels))"
   ]
  },
  {
   "cell_type": "code",
   "execution_count": 28,
   "metadata": {},
   "outputs": [
    {
     "name": "stdout",
     "output_type": "stream",
     "text": [
      "250/250 [==============================] - 0s 879us/step - loss: 0.0697 - accuracy: 0.9779\n"
     ]
    }
   ],
   "source": [
    "test_lossB, test_accB = networkB.evaluate(test_images, test_labels)"
   ]
  },
  {
   "cell_type": "markdown",
   "metadata": {},
   "source": [
    "### Accuracy"
   ]
  },
  {
   "cell_type": "code",
   "execution_count": 29,
   "metadata": {
    "scrolled": true
   },
   "outputs": [
    {
     "name": "stdout",
     "output_type": "stream",
     "text": [
      "test_acc: 0.9778749942779541\n"
     ]
    }
   ],
   "source": [
    "print('test_acc:', test_accB)"
   ]
  },
  {
   "cell_type": "markdown",
   "metadata": {},
   "source": [
    "### Loss vs. Epoch"
   ]
  },
  {
   "cell_type": "code",
   "execution_count": 30,
   "metadata": {
    "scrolled": true
   },
   "outputs": [
    {
     "data": {
      "image/png": "[encoded data removed]",
      "text/plain": [
       "<Figure size 432x288 with 1 Axes>"
      ]
     },
     "metadata": {
      "needs_background": "light"
     },
     "output_type": "display_data"
    },
    {
     "data": {
      "image/png": "[encoded data removed]",
      "text/plain": [
       "<Figure size 432x288 with 1 Axes>"
      ]
     },
     "metadata": {
      "needs_background": "light"
     },
     "output_type": "display_data"
    }
   ],
   "source": [
    "acc = historyB.history['accuracy']\n",
    "val_acc = historyB.history['val_accuracy']\n",
    "acc = historyB.history['accuracy']\n",
    "loss = historyB.history['loss']\n",
    "\n",
    "epochs = range(1, len(acc)+1)\n",
    "\n",
    "plt.plot(epochs, acc, 'bo', label='Training Acc')\n",
    "plt.plot(epochs, val_acc, 'b', label='Validation acc')\n",
    "plt.title('Training and validation accuracy')\n",
    "plt.legend()\n",
    "\n",
    "plt.figure()\n",
    "\n",
    "plt.plot(epochs, loss, 'bo', label='Training loss')\n",
    "plt.title('Loss vs. Epochs')\n",
    "plt.legend()\n",
    "\n",
    "plt.show()"
   ]
  },
  {
   "cell_type": "markdown",
   "metadata": {},
   "source": [
    "### Matriz de Confusión"
   ]
  },
  {
   "cell_type": "code",
   "execution_count": 31,
   "metadata": {},
   "outputs": [],
   "source": [
    "test_predictionsB = networkB.predict(test_images)"
   ]
  },
  {
   "cell_type": "code",
   "execution_count": 32,
   "metadata": {},
   "outputs": [],
   "source": [
    "confB = confusion_matrix(np.argmax(test_labels,axis=1), \n",
    "                             np.argmax(test_predictionsB,axis=1))"
   ]
  },
  {
   "cell_type": "code",
   "execution_count": 33,
   "metadata": {
    "scrolled": true
   },
   "outputs": [
    {
     "data": {
      "text/plain": [
       "<AxesSubplot:>"
      ]
     },
     "execution_count": 33,
     "metadata": {},
     "output_type": "execute_result"
    },
    {
     "data": {
      "image/png": "[encoded data removed]",
      "text/plain": [
       "<Figure size 432x288 with 2 Axes>"
      ]
     },
     "metadata": {
      "needs_background": "light"
     },
     "output_type": "display_data"
    }
   ],
   "source": [
    "sns.heatmap(confB, annot=True)"
   ]
  },
  {
   "cell_type": "markdown",
   "metadata": {},
   "source": [
    "## Dígito mejor clasificado (el del índice 1)"
   ]
  },
  {
   "cell_type": "code",
   "execution_count": 34,
   "metadata": {
    "scrolled": true
   },
   "outputs": [
    {
     "name": "stdout",
     "output_type": "stream",
     "text": [
      "              precision    recall  f1-score   support\n",
      "\n",
      "           0   0.996058  0.980595  0.988266       773\n",
      "           1   0.994413  0.983425  0.988889       905\n",
      "           2   0.977354  0.983213  0.980275       834\n",
      "           3   0.970223  0.973848  0.972032       803\n",
      "           4   0.983312  0.972081  0.977664       788\n",
      "           5   0.987395  0.975104  0.981211       723\n",
      "           6   0.984043  0.978836  0.981432       756\n",
      "           7   0.987484  0.970480  0.978908       813\n",
      "           8   0.946341  0.986023  0.965775       787\n",
      "           9   0.954491  0.974328  0.964307       818\n",
      "\n",
      "    accuracy                       0.977875      8000\n",
      "   macro avg   0.978111  0.977793  0.977876      8000\n",
      "weighted avg   0.978143  0.977875  0.977933      8000\n",
      "\n"
     ]
    },
    {
     "name": "stderr",
     "output_type": "stream",
     "text": [
      "/home/lornarthebreton/.local/lib/python3.8/site-packages/tensorflow/python/keras/engine/sequential.py:450: UserWarning: `model.predict_classes()` is deprecated and will be removed after 2021-01-01. Please use instead:* `np.argmax(model.predict(x), axis=-1)`,   if your model does multi-class classification   (e.g. if it uses a `softmax` last-layer activation).* `(model.predict(x) > 0.5).astype(\"int32\")`,   if your model does binary classification   (e.g. if it uses a `sigmoid` last-layer activation).\n",
      "  warnings.warn('`model.predict_classes()` is deprecated and '\n"
     ]
    }
   ],
   "source": [
    "y_test = np.argmax(test_labels, axis=1)\n",
    "y_pred = networkB.predict_classes(test_images)\n",
    "print(classification_report(y_test, y_pred,  digits=6))"
   ]
  },
  {
   "cell_type": "markdown",
   "metadata": {},
   "source": [
    "### Conclusiones"
   ]
  },
  {
   "cell_type": "markdown",
   "metadata": {},
   "source": [
    "Esta red es la que menos tiene overfitting de todas las probadas hasta este momento.\n",
    "\n",
    "La gráfica de Loss vs. Epoch se asemeja a las anteriores."
   ]
  },
  {
   "cell_type": "markdown",
   "metadata": {},
   "source": [
    "## Red C: 2 capas de 128 neuronas - Adam"
   ]
  },
  {
   "cell_type": "code",
   "execution_count": 35,
   "metadata": {},
   "outputs": [],
   "source": [
    "networkC = models.Sequential()\n",
    "networkC.add(layers.Dense(128, activation='relu', input_shape=(28 * 28,)))\n",
    "networkC.add(layers.Dense(128, activation='relu', input_shape=(28 * 28,)))\n",
    "networkC.add(layers.Dense(10, activation='softmax'))"
   ]
  },
  {
   "cell_type": "code",
   "execution_count": 36,
   "metadata": {},
   "outputs": [],
   "source": [
    "networkC.compile(optimizer='adam',\n",
    "                loss='categorical_crossentropy',\n",
    "                metrics=['accuracy'])"
   ]
  },
  {
   "cell_type": "code",
   "execution_count": 37,
   "metadata": {},
   "outputs": [
    {
     "name": "stdout",
     "output_type": "stream",
     "text": [
      "Epoch 1/5\n",
      "469/469 [==============================] - 1s 1ms/step - loss: 0.5670 - accuracy: 0.8409 - val_loss: 0.1161 - val_accuracy: 0.9650\n",
      "Epoch 2/5\n",
      "469/469 [==============================] - 1s 1ms/step - loss: 0.1376 - accuracy: 0.9596 - val_loss: 0.0817 - val_accuracy: 0.9745\n",
      "Epoch 3/5\n",
      "469/469 [==============================] - 1s 1ms/step - loss: 0.0903 - accuracy: 0.9733 - val_loss: 0.0702 - val_accuracy: 0.9800\n",
      "Epoch 4/5\n",
      "469/469 [==============================] - 1s 1ms/step - loss: 0.0664 - accuracy: 0.9803 - val_loss: 0.0753 - val_accuracy: 0.9800\n",
      "Epoch 5/5\n",
      "469/469 [==============================] - 1s 1ms/step - loss: 0.0488 - accuracy: 0.9860 - val_loss: 0.0501 - val_accuracy: 0.9850\n"
     ]
    }
   ],
   "source": [
    "historyC = networkC.fit(train_images, train_labels, \n",
    "                      epochs=5, batch_size=128,\n",
    "                     validation_data=(validation_images,validation_labels))"
   ]
  },
  {
   "cell_type": "code",
   "execution_count": 38,
   "metadata": {
    "scrolled": true
   },
   "outputs": [
    {
     "name": "stdout",
     "output_type": "stream",
     "text": [
      "250/250 [==============================] - 0s 680us/step - loss: 0.0827 - accuracy: 0.9741\n"
     ]
    }
   ],
   "source": [
    "test_lossC, test_accC = networkC.evaluate(test_images, test_labels)"
   ]
  },
  {
   "cell_type": "markdown",
   "metadata": {},
   "source": [
    "### Accuracy"
   ]
  },
  {
   "cell_type": "code",
   "execution_count": 39,
   "metadata": {},
   "outputs": [
    {
     "name": "stdout",
     "output_type": "stream",
     "text": [
      "test_acc: 0.9741250276565552\n"
     ]
    }
   ],
   "source": [
    "print('test_acc:', test_accC)"
   ]
  },
  {
   "cell_type": "markdown",
   "metadata": {},
   "source": [
    "### Matriz de Confusión"
   ]
  },
  {
   "cell_type": "markdown",
   "metadata": {},
   "source": [
    "### Loss vs. Epoch"
   ]
  },
  {
   "cell_type": "code",
   "execution_count": 40,
   "metadata": {
    "scrolled": true
   },
   "outputs": [
    {
     "data": {
      "image/png": "[encoded data removed]",
      "text/plain": [
       "<Figure size 432x288 with 1 Axes>"
      ]
     },
     "metadata": {
      "needs_background": "light"
     },
     "output_type": "display_data"
    },
    {
     "data": {
      "image/png": "[encoded data removed]",
      "text/plain": [
       "<Figure size 432x288 with 1 Axes>"
      ]
     },
     "metadata": {
      "needs_background": "light"
     },
     "output_type": "display_data"
    }
   ],
   "source": [
    "acc = historyC.history['accuracy']\n",
    "val_acc = historyC.history['val_accuracy']\n",
    "acc = historyC.history['accuracy']\n",
    "loss = historyC.history['loss']\n",
    "\n",
    "epochs = range(1, len(acc)+1)\n",
    "\n",
    "plt.plot(epochs, acc, 'bo', label='Training Acc')\n",
    "plt.plot(epochs, val_acc, 'b', label='Validation acc')\n",
    "plt.title('Training and validation accuracy')\n",
    "plt.legend()\n",
    "\n",
    "plt.figure()\n",
    "\n",
    "plt.plot(epochs, loss, 'bo', label='Training loss')\n",
    "plt.title('Loss vs. Epochs')\n",
    "plt.legend()\n",
    "\n",
    "plt.show()"
   ]
  },
  {
   "cell_type": "code",
   "execution_count": 41,
   "metadata": {},
   "outputs": [],
   "source": [
    "test_predictionsC = networkC.predict(test_images)"
   ]
  },
  {
   "cell_type": "code",
   "execution_count": 42,
   "metadata": {},
   "outputs": [],
   "source": [
    "confC = confusion_matrix(np.argmax(test_labels,axis=1), \n",
    "                             np.argmax(test_predictionsC,axis=1))"
   ]
  },
  {
   "cell_type": "code",
   "execution_count": 43,
   "metadata": {
    "scrolled": true
   },
   "outputs": [
    {
     "data": {
      "text/plain": [
       "<AxesSubplot:>"
      ]
     },
     "execution_count": 43,
     "metadata": {},
     "output_type": "execute_result"
    },
    {
     "data": {
      "image/png": "[encoded data removed]",
      "text/plain": [
       "<Figure size 432x288 with 2 Axes>"
      ]
     },
     "metadata": {
      "needs_background": "light"
     },
     "output_type": "display_data"
    }
   ],
   "source": [
    "sns.heatmap(confC, annot=True)"
   ]
  },
  {
   "cell_type": "markdown",
   "metadata": {},
   "source": [
    "## Dígito mejor clasificado (el del índice 1)"
   ]
  },
  {
   "cell_type": "code",
   "execution_count": 44,
   "metadata": {
    "scrolled": true
   },
   "outputs": [
    {
     "name": "stdout",
     "output_type": "stream",
     "text": [
      "              precision    recall  f1-score   support\n",
      "\n",
      "           0   0.969620  0.990944  0.980166       773\n",
      "           1   0.978190  0.991160  0.984632       905\n",
      "           2   0.970414  0.983213  0.976772       834\n",
      "           3   0.957473  0.981320  0.969250       803\n",
      "           4   0.963930  0.983503  0.973618       788\n",
      "           5   0.990043  0.962656  0.976157       723\n",
      "           6   0.993261  0.974868  0.983979       756\n",
      "           7   0.967233  0.980320  0.973732       813\n",
      "           8   0.964512  0.966963  0.965736       787\n",
      "           9   0.990826  0.924205  0.956357       818\n",
      "\n",
      "    accuracy                       0.974125      8000\n",
      "   macro avg   0.974550  0.973915  0.974040      8000\n",
      "weighted avg   0.974396  0.974125  0.974067      8000\n",
      "\n"
     ]
    },
    {
     "name": "stderr",
     "output_type": "stream",
     "text": [
      "/home/lornarthebreton/.local/lib/python3.8/site-packages/tensorflow/python/keras/engine/sequential.py:450: UserWarning: `model.predict_classes()` is deprecated and will be removed after 2021-01-01. Please use instead:* `np.argmax(model.predict(x), axis=-1)`,   if your model does multi-class classification   (e.g. if it uses a `softmax` last-layer activation).* `(model.predict(x) > 0.5).astype(\"int32\")`,   if your model does binary classification   (e.g. if it uses a `sigmoid` last-layer activation).\n",
      "  warnings.warn('`model.predict_classes()` is deprecated and '\n"
     ]
    }
   ],
   "source": [
    "y_test = np.argmax(test_labels, axis=1)\n",
    "y_pred = networkC.predict_classes(test_images)\n",
    "print(classification_report(y_test, y_pred,  digits=6))"
   ]
  },
  {
   "cell_type": "markdown",
   "metadata": {},
   "source": [
    "### Conclusiones"
   ]
  },
  {
   "cell_type": "markdown",
   "metadata": {},
   "source": [
    "Tiene un overfitting mayor que la Red B y la gráfica Loss vs. Epoch sigue siendo similar a las anteriores. Otra vez, más evidencia que refuerza la hipótesis planteada."
   ]
  },
  {
   "cell_type": "markdown",
   "metadata": {},
   "source": [
    "## Red D: 1 capa, 512 neuronas - SGD"
   ]
  },
  {
   "cell_type": "code",
   "execution_count": 45,
   "metadata": {},
   "outputs": [],
   "source": [
    "networkD = models.Sequential()\n",
    "networkD.add(layers.Dense(512, activation='relu', input_shape=(28 * 28,)))\n",
    "networkD.add(layers.Dense(10, activation='softmax'))"
   ]
  },
  {
   "cell_type": "code",
   "execution_count": 46,
   "metadata": {},
   "outputs": [],
   "source": [
    "networkD.compile(optimizer='sgd',\n",
    "                loss='categorical_crossentropy',\n",
    "                metrics=['accuracy'])"
   ]
  },
  {
   "cell_type": "code",
   "execution_count": 47,
   "metadata": {},
   "outputs": [
    {
     "name": "stdout",
     "output_type": "stream",
     "text": [
      "Epoch 1/5\n",
      "469/469 [==============================] - 1s 2ms/step - loss: 1.5632 - accuracy: 0.6031 - val_loss: 0.4810 - val_accuracy: 0.9195\n",
      "Epoch 2/5\n",
      "469/469 [==============================] - 1s 2ms/step - loss: 0.5632 - accuracy: 0.8690 - val_loss: 0.3228 - val_accuracy: 0.9300\n",
      "Epoch 3/5\n",
      "469/469 [==============================] - 1s 2ms/step - loss: 0.4373 - accuracy: 0.8856 - val_loss: 0.2677 - val_accuracy: 0.9350\n",
      "Epoch 4/5\n",
      "469/469 [==============================] - 1s 2ms/step - loss: 0.3774 - accuracy: 0.8972 - val_loss: 0.2404 - val_accuracy: 0.9370\n",
      "Epoch 5/5\n",
      "469/469 [==============================] - 1s 2ms/step - loss: 0.3508 - accuracy: 0.9046 - val_loss: 0.2226 - val_accuracy: 0.9405\n"
     ]
    }
   ],
   "source": [
    "historyD = networkD.fit(train_images, train_labels, \n",
    "                      epochs=5, batch_size=128,\n",
    "                     validation_data=(validation_images,validation_labels))"
   ]
  },
  {
   "cell_type": "code",
   "execution_count": 48,
   "metadata": {},
   "outputs": [
    {
     "name": "stdout",
     "output_type": "stream",
     "text": [
      "250/250 [==============================] - 0s 872us/step - loss: 0.3397 - accuracy: 0.9094\n"
     ]
    }
   ],
   "source": [
    "test_lossD, test_accD = networkD.evaluate(test_images, test_labels)"
   ]
  },
  {
   "cell_type": "markdown",
   "metadata": {},
   "source": [
    "### Accuracy"
   ]
  },
  {
   "cell_type": "code",
   "execution_count": 49,
   "metadata": {
    "scrolled": true
   },
   "outputs": [
    {
     "name": "stdout",
     "output_type": "stream",
     "text": [
      "test_acc: 0.909375011920929\n"
     ]
    }
   ],
   "source": [
    "print('test_acc:', test_accD)"
   ]
  },
  {
   "cell_type": "markdown",
   "metadata": {},
   "source": [
    "### Loss vs. Epoch"
   ]
  },
  {
   "cell_type": "code",
   "execution_count": 50,
   "metadata": {},
   "outputs": [
    {
     "data": {
      "image/png": "[encoded data removed]",
      "text/plain": [
       "<Figure size 432x288 with 1 Axes>"
      ]
     },
     "metadata": {
      "needs_background": "light"
     },
     "output_type": "display_data"
    },
    {
     "data": {
      "image/png": "[encoded data removed]",
      "text/plain": [
       "<Figure size 432x288 with 1 Axes>"
      ]
     },
     "metadata": {
      "needs_background": "light"
     },
     "output_type": "display_data"
    }
   ],
   "source": [
    "acc = historyD.history['accuracy']\n",
    "val_acc = historyD.history['val_accuracy']\n",
    "acc = historyD.history['accuracy']\n",
    "loss = historyD.history['loss']\n",
    "\n",
    "epochs = range(1, len(acc)+1)\n",
    "\n",
    "plt.plot(epochs, acc, 'bo', label='Training Acc')\n",
    "plt.plot(epochs, val_acc, 'b', label='Validation acc')\n",
    "plt.title('Training and validation accuracy')\n",
    "plt.legend()\n",
    "\n",
    "plt.figure()\n",
    "\n",
    "plt.plot(epochs, loss, 'bo', label='Training loss')\n",
    "plt.title('Loss vs. Epochs')\n",
    "plt.legend()\n",
    "\n",
    "plt.show()"
   ]
  },
  {
   "cell_type": "markdown",
   "metadata": {},
   "source": [
    "### Matriz de Confusión"
   ]
  },
  {
   "cell_type": "code",
   "execution_count": 51,
   "metadata": {},
   "outputs": [],
   "source": [
    "test_predictionsD = networkD.predict(test_images)"
   ]
  },
  {
   "cell_type": "code",
   "execution_count": 52,
   "metadata": {},
   "outputs": [],
   "source": [
    "confD = confusion_matrix(np.argmax(test_labels,axis=1), \n",
    "                             np.argmax(test_predictionsD,axis=1))"
   ]
  },
  {
   "cell_type": "code",
   "execution_count": 53,
   "metadata": {
    "scrolled": false
   },
   "outputs": [
    {
     "data": {
      "text/plain": [
       "<AxesSubplot:>"
      ]
     },
     "execution_count": 53,
     "metadata": {},
     "output_type": "execute_result"
    },
    {
     "data": {
      "image/png": "[encoded data removed]",
      "text/plain": [
       "<Figure size 432x288 with 2 Axes>"
      ]
     },
     "metadata": {
      "needs_background": "light"
     },
     "output_type": "display_data"
    }
   ],
   "source": [
    "sns.heatmap(confD, annot=True)"
   ]
  },
  {
   "cell_type": "markdown",
   "metadata": {},
   "source": [
    "## Dígito mejor clasificado (el del índice 1)"
   ]
  },
  {
   "cell_type": "code",
   "execution_count": 54,
   "metadata": {
    "scrolled": true
   },
   "outputs": [
    {
     "name": "stdout",
     "output_type": "stream",
     "text": [
      "              precision    recall  f1-score   support\n",
      "\n",
      "           0   0.936725  0.976714  0.956301       773\n",
      "           1   0.954496  0.973481  0.963895       905\n",
      "           2   0.916459  0.881295  0.898533       834\n",
      "           3   0.889303  0.890411  0.889857       803\n",
      "           4   0.889976  0.923858  0.906600       788\n",
      "           5   0.899705  0.843707  0.870807       723\n",
      "           6   0.918288  0.936508  0.927308       756\n",
      "           7   0.911361  0.897909  0.904585       813\n",
      "           8   0.865598  0.891995  0.878598       787\n",
      "           9   0.904580  0.869193  0.886534       818\n",
      "\n",
      "    accuracy                       0.909375      8000\n",
      "   macro avg   0.908649  0.908507  0.908302      8000\n",
      "weighted avg   0.909308  0.909375  0.909073      8000\n",
      "\n"
     ]
    },
    {
     "name": "stderr",
     "output_type": "stream",
     "text": [
      "/home/lornarthebreton/.local/lib/python3.8/site-packages/tensorflow/python/keras/engine/sequential.py:450: UserWarning: `model.predict_classes()` is deprecated and will be removed after 2021-01-01. Please use instead:* `np.argmax(model.predict(x), axis=-1)`,   if your model does multi-class classification   (e.g. if it uses a `softmax` last-layer activation).* `(model.predict(x) > 0.5).astype(\"int32\")`,   if your model does binary classification   (e.g. if it uses a `sigmoid` last-layer activation).\n",
      "  warnings.warn('`model.predict_classes()` is deprecated and '\n"
     ]
    }
   ],
   "source": [
    "y_test = np.argmax(test_labels, axis=1)\n",
    "y_pred = networkD.predict_classes(test_images)\n",
    "print(classification_report(y_test, y_pred,  digits=6))"
   ]
  },
  {
   "cell_type": "markdown",
   "metadata": {},
   "source": [
    "### Conclusiones"
   ]
  },
  {
   "cell_type": "markdown",
   "metadata": {},
   "source": [
    "La primera red sin overfitting (a pesar de tener la menor accuracy hasta el momento). \n",
    "\n",
    "La gráfica Loss vs. Epochs cambia radicalmente: incrementa la magnitud de la disminución de la pérdida entre cada época en comparación con las otras redes. En otras palabras, esta red \"aprende más rápido\"."
   ]
  },
  {
   "cell_type": "markdown",
   "metadata": {},
   "source": [
    "## Red E: 2 capas de 128 neuronas - SGD"
   ]
  },
  {
   "cell_type": "code",
   "execution_count": 55,
   "metadata": {},
   "outputs": [],
   "source": [
    "networkE = models.Sequential()\n",
    "networkE.add(layers.Dense(128, activation='relu', input_shape=(28 * 28,)))\n",
    "networkE.add(layers.Dense(128, activation='relu', input_shape=(28 * 28,)))\n",
    "networkE.add(layers.Dense(10, activation='softmax'))"
   ]
  },
  {
   "cell_type": "code",
   "execution_count": 56,
   "metadata": {},
   "outputs": [],
   "source": [
    "networkE.compile(optimizer='sgd',\n",
    "                loss='categorical_crossentropy',\n",
    "                metrics=['accuracy'])"
   ]
  },
  {
   "cell_type": "code",
   "execution_count": 57,
   "metadata": {},
   "outputs": [
    {
     "name": "stdout",
     "output_type": "stream",
     "text": [
      "Epoch 1/5\n",
      "469/469 [==============================] - 1s 1ms/step - loss: 1.7448 - accuracy: 0.4965 - val_loss: 0.5048 - val_accuracy: 0.8945\n",
      "Epoch 2/5\n",
      "469/469 [==============================] - 0s 947us/step - loss: 0.5564 - accuracy: 0.8588 - val_loss: 0.3091 - val_accuracy: 0.9235\n",
      "Epoch 3/5\n",
      "469/469 [==============================] - 0s 950us/step - loss: 0.4141 - accuracy: 0.8857 - val_loss: 0.2525 - val_accuracy: 0.9340\n",
      "Epoch 4/5\n",
      "469/469 [==============================] - 0s 942us/step - loss: 0.3491 - accuracy: 0.9020 - val_loss: 0.2215 - val_accuracy: 0.9390\n",
      "Epoch 5/5\n",
      "469/469 [==============================] - 0s 944us/step - loss: 0.3144 - accuracy: 0.9122 - val_loss: 0.2121 - val_accuracy: 0.9410\n"
     ]
    }
   ],
   "source": [
    "historyE = networkE.fit(train_images, train_labels, \n",
    "                      epochs=5, batch_size=128,\n",
    "                     validation_data=(validation_images,validation_labels))"
   ]
  },
  {
   "cell_type": "code",
   "execution_count": 58,
   "metadata": {
    "scrolled": true
   },
   "outputs": [
    {
     "name": "stdout",
     "output_type": "stream",
     "text": [
      "250/250 [==============================] - 0s 685us/step - loss: 0.3113 - accuracy: 0.9133\n"
     ]
    }
   ],
   "source": [
    "test_lossE, test_accE = networkE.evaluate(test_images, test_labels)"
   ]
  },
  {
   "cell_type": "markdown",
   "metadata": {},
   "source": [
    "### Accuracy"
   ]
  },
  {
   "cell_type": "code",
   "execution_count": 59,
   "metadata": {
    "scrolled": true
   },
   "outputs": [
    {
     "name": "stdout",
     "output_type": "stream",
     "text": [
      "test_acc: 0.9132500290870667\n"
     ]
    }
   ],
   "source": [
    "print('test_acc:', test_accE)"
   ]
  },
  {
   "cell_type": "markdown",
   "metadata": {},
   "source": [
    "### Loss vs. Epoch"
   ]
  },
  {
   "cell_type": "code",
   "execution_count": 60,
   "metadata": {},
   "outputs": [
    {
     "data": {
      "image/png": "[encoded data removed]",
      "text/plain": [
       "<Figure size 432x288 with 1 Axes>"
      ]
     },
     "metadata": {
      "needs_background": "light"
     },
     "output_type": "display_data"
    },
    {
     "data": {
      "image/png": "[encoded data removed]",
      "text/plain": [
       "<Figure size 432x288 with 1 Axes>"
      ]
     },
     "metadata": {
      "needs_background": "light"
     },
     "output_type": "display_data"
    }
   ],
   "source": [
    "acc = historyE.history['accuracy']\n",
    "val_acc = historyE.history['val_accuracy']\n",
    "acc = historyE.history['accuracy']\n",
    "loss = historyE.history['loss']\n",
    "\n",
    "epochs = range(1, len(acc)+1)\n",
    "\n",
    "plt.plot(epochs, acc, 'bo', label='Training Acc')\n",
    "plt.plot(epochs, val_acc, 'b', label='Validation acc')\n",
    "plt.title('Training and validation accuracy')\n",
    "plt.legend()\n",
    "\n",
    "plt.figure()\n",
    "\n",
    "plt.plot(epochs, loss, 'bo', label='Training loss')\n",
    "plt.title('Loss vs. Epochs')\n",
    "plt.legend()\n",
    "\n",
    "plt.show()"
   ]
  },
  {
   "cell_type": "markdown",
   "metadata": {},
   "source": [
    "### Matriz de Confusión"
   ]
  },
  {
   "cell_type": "code",
   "execution_count": 61,
   "metadata": {},
   "outputs": [],
   "source": [
    "test_predictionsE = networkE.predict(test_images)"
   ]
  },
  {
   "cell_type": "code",
   "execution_count": 62,
   "metadata": {},
   "outputs": [],
   "source": [
    "confE = confusion_matrix(np.argmax(test_labels,axis=1), \n",
    "                             np.argmax(test_predictionsE,axis=1))"
   ]
  },
  {
   "cell_type": "code",
   "execution_count": 63,
   "metadata": {
    "scrolled": false
   },
   "outputs": [
    {
     "data": {
      "text/plain": [
       "<AxesSubplot:>"
      ]
     },
     "execution_count": 63,
     "metadata": {},
     "output_type": "execute_result"
    },
    {
     "data": {
      "image/png": "[encoded data removed]",
      "text/plain": [
       "<Figure size 432x288 with 2 Axes>"
      ]
     },
     "metadata": {
      "needs_background": "light"
     },
     "output_type": "display_data"
    }
   ],
   "source": [
    "sns.heatmap(confE, annot=True)"
   ]
  },
  {
   "cell_type": "markdown",
   "metadata": {},
   "source": [
    "## Dígito mejor clasificado (el del índice 1)"
   ]
  },
  {
   "cell_type": "code",
   "execution_count": 64,
   "metadata": {
    "scrolled": true
   },
   "outputs": [
    {
     "name": "stdout",
     "output_type": "stream",
     "text": [
      "              precision    recall  f1-score   support\n",
      "\n",
      "           0   0.939206  0.979301  0.958835       773\n",
      "           1   0.960742  0.973481  0.967069       905\n",
      "           2   0.930380  0.881295  0.905172       834\n",
      "           3   0.899624  0.892902  0.896250       803\n",
      "           4   0.890378  0.927665  0.908639       788\n",
      "           5   0.900862  0.867220  0.883721       723\n",
      "           6   0.923177  0.937831  0.930446       756\n",
      "           7   0.918114  0.910209  0.914145       813\n",
      "           8   0.869565  0.889454  0.879397       787\n",
      "           9   0.892947  0.866748  0.879653       818\n",
      "\n",
      "    accuracy                       0.913250      8000\n",
      "   macro avg   0.912499  0.912611  0.912333      8000\n",
      "weighted avg   0.913235  0.913250  0.913022      8000\n",
      "\n"
     ]
    },
    {
     "name": "stderr",
     "output_type": "stream",
     "text": [
      "/home/lornarthebreton/.local/lib/python3.8/site-packages/tensorflow/python/keras/engine/sequential.py:450: UserWarning: `model.predict_classes()` is deprecated and will be removed after 2021-01-01. Please use instead:* `np.argmax(model.predict(x), axis=-1)`,   if your model does multi-class classification   (e.g. if it uses a `softmax` last-layer activation).* `(model.predict(x) > 0.5).astype(\"int32\")`,   if your model does binary classification   (e.g. if it uses a `sigmoid` last-layer activation).\n",
      "  warnings.warn('`model.predict_classes()` is deprecated and '\n"
     ]
    }
   ],
   "source": [
    "y_test = np.argmax(test_labels, axis=1)\n",
    "y_pred = networkE.predict_classes(test_images)\n",
    "print(classification_report(y_test, y_pred,  digits=6))"
   ]
  },
  {
   "cell_type": "markdown",
   "metadata": {},
   "source": [
    "### Conclusiones"
   ]
  },
  {
   "cell_type": "markdown",
   "metadata": {},
   "source": [
    "Al igual que la Red E, tampoco tiene overfitting (a pesar de tener varias capas). Tiene mayor accuracy que la Red E, pero sigue siendo la segunda menor.\n",
    "\n",
    "Dicho esto, es el modelo con la mayor disminución en la pérdida entre épocas, como se ve en la gráfica: vence a su contraparte de 1 capa."
   ]
  },
  {
   "cell_type": "markdown",
   "metadata": {},
   "source": [
    "## 2 capas de 512 neuronas - Adam"
   ]
  },
  {
   "cell_type": "code",
   "execution_count": 65,
   "metadata": {},
   "outputs": [],
   "source": [
    "networkF = models.Sequential()\n",
    "networkF.add(layers.Dense(512, activation='relu', input_shape=(28 * 28,)))\n",
    "networkF.add(layers.Dense(512, activation='relu', input_shape=(28 * 28,)))\n",
    "networkF.add(layers.Dense(10, activation='softmax'))"
   ]
  },
  {
   "cell_type": "code",
   "execution_count": 66,
   "metadata": {},
   "outputs": [],
   "source": [
    "networkF.compile(optimizer='adam',\n",
    "                loss='categorical_crossentropy',\n",
    "                metrics=['accuracy'])"
   ]
  },
  {
   "cell_type": "code",
   "execution_count": 67,
   "metadata": {},
   "outputs": [
    {
     "name": "stdout",
     "output_type": "stream",
     "text": [
      "Epoch 1/5\n",
      "469/469 [==============================] - 2s 3ms/step - loss: 0.4050 - accuracy: 0.8765 - val_loss: 0.0834 - val_accuracy: 0.9765\n",
      "Epoch 2/5\n",
      "469/469 [==============================] - 1s 3ms/step - loss: 0.0854 - accuracy: 0.9739 - val_loss: 0.0506 - val_accuracy: 0.9850\n",
      "Epoch 3/5\n",
      "469/469 [==============================] - 1s 3ms/step - loss: 0.0476 - accuracy: 0.9844 - val_loss: 0.0448 - val_accuracy: 0.9870\n",
      "Epoch 4/5\n",
      "469/469 [==============================] - 2s 3ms/step - loss: 0.0331 - accuracy: 0.9898 - val_loss: 0.0535 - val_accuracy: 0.9835\n",
      "Epoch 5/5\n",
      "469/469 [==============================] - 2s 4ms/step - loss: 0.0240 - accuracy: 0.9917 - val_loss: 0.0502 - val_accuracy: 0.9845\n"
     ]
    }
   ],
   "source": [
    "historyF = networkF.fit(train_images, train_labels, \n",
    "                      epochs=5, batch_size=128,\n",
    "                     validation_data=(validation_images,validation_labels))"
   ]
  },
  {
   "cell_type": "code",
   "execution_count": 68,
   "metadata": {
    "scrolled": true
   },
   "outputs": [
    {
     "name": "stdout",
     "output_type": "stream",
     "text": [
      "250/250 [==============================] - 0s 757us/step - loss: 0.0827 - accuracy: 0.9741\n"
     ]
    }
   ],
   "source": [
    "test_lossF, test_accF = networkC.evaluate(test_images, test_labels)"
   ]
  },
  {
   "cell_type": "markdown",
   "metadata": {},
   "source": [
    "### Accuracy"
   ]
  },
  {
   "cell_type": "code",
   "execution_count": 69,
   "metadata": {
    "scrolled": true
   },
   "outputs": [
    {
     "name": "stdout",
     "output_type": "stream",
     "text": [
      "test_acc: 0.9741250276565552\n"
     ]
    }
   ],
   "source": [
    "print('test_acc:', test_accF)"
   ]
  },
  {
   "cell_type": "markdown",
   "metadata": {},
   "source": [
    "### Loss vs. Epoch"
   ]
  },
  {
   "cell_type": "code",
   "execution_count": 70,
   "metadata": {},
   "outputs": [
    {
     "data": {
      "image/png": "[encoded data removed]",
      "text/plain": [
       "<Figure size 432x288 with 1 Axes>"
      ]
     },
     "metadata": {
      "needs_background": "light"
     },
     "output_type": "display_data"
    },
    {
     "data": {
      "image/png": "[encoded data removed]",
      "text/plain": [
       "<Figure size 432x288 with 1 Axes>"
      ]
     },
     "metadata": {
      "needs_background": "light"
     },
     "output_type": "display_data"
    }
   ],
   "source": [
    "acc = historyF.history['accuracy']\n",
    "val_acc = historyF.history['val_accuracy']\n",
    "acc = historyF.history['accuracy']\n",
    "loss = historyF.history['loss']\n",
    "\n",
    "epochs = range(1, len(acc)+1)\n",
    "\n",
    "plt.plot(epochs, acc, 'bo', label='Training Acc')\n",
    "plt.plot(epochs, val_acc, 'b', label='Validation acc')\n",
    "plt.title('Training and validation accuracy')\n",
    "plt.legend()\n",
    "\n",
    "plt.figure()\n",
    "\n",
    "plt.plot(epochs, loss, 'bo', label='Training loss')\n",
    "plt.title('Loss vs. Epochs')\n",
    "plt.legend()\n",
    "\n",
    "plt.show()"
   ]
  },
  {
   "cell_type": "markdown",
   "metadata": {},
   "source": [
    "### Matriz de Confusión"
   ]
  },
  {
   "cell_type": "code",
   "execution_count": 71,
   "metadata": {},
   "outputs": [],
   "source": [
    "test_predictionsF = networkF.predict(test_images)"
   ]
  },
  {
   "cell_type": "code",
   "execution_count": 72,
   "metadata": {},
   "outputs": [],
   "source": [
    "confF = confusion_matrix(np.argmax(test_labels,axis=1), \n",
    "                             np.argmax(test_predictionsF,axis=1))"
   ]
  },
  {
   "cell_type": "code",
   "execution_count": 73,
   "metadata": {
    "scrolled": false
   },
   "outputs": [
    {
     "data": {
      "text/plain": [
       "<AxesSubplot:>"
      ]
     },
     "execution_count": 73,
     "metadata": {},
     "output_type": "execute_result"
    },
    {
     "data": {
      "image/png": "[encoded data removed]",
      "text/plain": [
       "<Figure size 432x288 with 2 Axes>"
      ]
     },
     "metadata": {
      "needs_background": "light"
     },
     "output_type": "display_data"
    }
   ],
   "source": [
    "sns.heatmap(confF, annot=True)"
   ]
  },
  {
   "cell_type": "markdown",
   "metadata": {},
   "source": [
    "## Dígito mejor clasificado (el del índice 1)"
   ]
  },
  {
   "cell_type": "code",
   "execution_count": 74,
   "metadata": {
    "scrolled": true
   },
   "outputs": [
    {
     "name": "stdout",
     "output_type": "stream",
     "text": [
      "              precision    recall  f1-score   support\n",
      "\n",
      "           0   0.988357  0.988357  0.988357       773\n",
      "           1   0.983607  0.994475  0.989011       905\n",
      "           2   0.986650  0.974820  0.980700       834\n",
      "           3   0.956364  0.982565  0.969287       803\n",
      "           4   0.967459  0.980964  0.974165       788\n",
      "           5   0.988604  0.959889  0.974035       723\n",
      "           6   0.983979  0.974868  0.979402       756\n",
      "           7   0.979167  0.982780  0.980970       813\n",
      "           8   0.963750  0.979670  0.971645       787\n",
      "           9   0.981179  0.955990  0.968421       818\n",
      "\n",
      "    accuracy                       0.977750      8000\n",
      "   macro avg   0.977912  0.977438  0.977599      8000\n",
      "weighted avg   0.977892  0.977750  0.977747      8000\n",
      "\n"
     ]
    },
    {
     "name": "stderr",
     "output_type": "stream",
     "text": [
      "/home/lornarthebreton/.local/lib/python3.8/site-packages/tensorflow/python/keras/engine/sequential.py:450: UserWarning: `model.predict_classes()` is deprecated and will be removed after 2021-01-01. Please use instead:* `np.argmax(model.predict(x), axis=-1)`,   if your model does multi-class classification   (e.g. if it uses a `softmax` last-layer activation).* `(model.predict(x) > 0.5).astype(\"int32\")`,   if your model does binary classification   (e.g. if it uses a `sigmoid` last-layer activation).\n",
      "  warnings.warn('`model.predict_classes()` is deprecated and '\n"
     ]
    }
   ],
   "source": [
    "y_test = np.argmax(test_labels, axis=1)\n",
    "y_pred = networkF.predict_classes(test_images)\n",
    "print(classification_report(y_test, y_pred,  digits=6))"
   ]
  },
  {
   "cell_type": "markdown",
   "metadata": {},
   "source": [
    "### Conclusiones"
   ]
  },
  {
   "cell_type": "markdown",
   "metadata": {},
   "source": [
    "Es la red con el peor overfitting de todas: una diferencia de más de 2% entre la accuracy del conjunto de prueba y el conjunto de entrenamiento. Más evidencia que refuerza la hipótesis.\n",
    "\n",
    "La gráfica Epoch vs. Loss indica que no había mucha pérdida desde la primera época, entonces, el impacto de las siguientes épocas fue mínimo."
   ]
  },
  {
   "cell_type": "markdown",
   "metadata": {},
   "source": [
    "## Red G: 2 capas de 512 neuronas - SGD"
   ]
  },
  {
   "cell_type": "code",
   "execution_count": 75,
   "metadata": {},
   "outputs": [],
   "source": [
    "networkG = models.Sequential()\n",
    "networkG.add(layers.Dense(512, activation='relu', input_shape=(28 * 28,)))\n",
    "networkG.add(layers.Dense(512, activation='relu', input_shape=(28 * 28,)))\n",
    "networkG.add(layers.Dense(10, activation='softmax'))"
   ]
  },
  {
   "cell_type": "code",
   "execution_count": 76,
   "metadata": {},
   "outputs": [],
   "source": [
    "networkG.compile(optimizer='sgd',\n",
    "                loss='categorical_crossentropy',\n",
    "                metrics=['accuracy'])"
   ]
  },
  {
   "cell_type": "code",
   "execution_count": 77,
   "metadata": {},
   "outputs": [
    {
     "name": "stdout",
     "output_type": "stream",
     "text": [
      "Epoch 1/5\n",
      "469/469 [==============================] - 2s 3ms/step - loss: 1.5938 - accuracy: 0.5917 - val_loss: 0.4079 - val_accuracy: 0.9160\n",
      "Epoch 2/5\n",
      "469/469 [==============================] - 1s 3ms/step - loss: 0.4910 - accuracy: 0.8733 - val_loss: 0.2651 - val_accuracy: 0.9385\n",
      "Epoch 3/5\n",
      "469/469 [==============================] - 1s 3ms/step - loss: 0.3738 - accuracy: 0.8965 - val_loss: 0.2223 - val_accuracy: 0.9420\n",
      "Epoch 4/5\n",
      "469/469 [==============================] - 1s 3ms/step - loss: 0.3260 - accuracy: 0.9081 - val_loss: 0.1999 - val_accuracy: 0.9465\n",
      "Epoch 5/5\n",
      "469/469 [==============================] - 1s 3ms/step - loss: 0.2965 - accuracy: 0.9159 - val_loss: 0.1855 - val_accuracy: 0.9515\n"
     ]
    }
   ],
   "source": [
    "historyG = networkG.fit(train_images, train_labels, \n",
    "                      epochs=5, batch_size=128,\n",
    "                     validation_data=(validation_images,validation_labels))"
   ]
  },
  {
   "cell_type": "code",
   "execution_count": 78,
   "metadata": {
    "scrolled": true
   },
   "outputs": [
    {
     "name": "stdout",
     "output_type": "stream",
     "text": [
      "250/250 [==============================] - 0s 1ms/step - loss: 0.2901 - accuracy: 0.9197\n"
     ]
    }
   ],
   "source": [
    "test_lossG, test_accG = networkG.evaluate(test_images, test_labels)"
   ]
  },
  {
   "cell_type": "markdown",
   "metadata": {},
   "source": [
    "### Accuracy"
   ]
  },
  {
   "cell_type": "code",
   "execution_count": 79,
   "metadata": {
    "scrolled": true
   },
   "outputs": [
    {
     "name": "stdout",
     "output_type": "stream",
     "text": [
      "test_acc: 0.9197499752044678\n"
     ]
    }
   ],
   "source": [
    "print('test_acc:', test_accG)"
   ]
  },
  {
   "cell_type": "markdown",
   "metadata": {},
   "source": [
    "### Loss vs. Epoch"
   ]
  },
  {
   "cell_type": "code",
   "execution_count": 80,
   "metadata": {
    "scrolled": true
   },
   "outputs": [
    {
     "data": {
      "image/png": "[encoded data removed]",
      "text/plain": [
       "<Figure size 432x288 with 1 Axes>"
      ]
     },
     "metadata": {
      "needs_background": "light"
     },
     "output_type": "display_data"
    },
    {
     "data": {
      "image/png": "[encoded data removed]",
      "text/plain": [
       "<Figure size 432x288 with 1 Axes>"
      ]
     },
     "metadata": {
      "needs_background": "light"
     },
     "output_type": "display_data"
    }
   ],
   "source": [
    "acc = historyG.history['accuracy']\n",
    "val_acc = historyG.history['val_accuracy']\n",
    "acc = historyG.history['accuracy']\n",
    "loss = historyG.history['loss']\n",
    "\n",
    "epochs = range(1, len(acc)+1)\n",
    "\n",
    "plt.plot(epochs, acc, 'bo', label='Training Acc')\n",
    "plt.plot(epochs, val_acc, 'b', label='Validation acc')\n",
    "plt.title('Training and validation accuracy')\n",
    "plt.legend()\n",
    "\n",
    "plt.figure()\n",
    "\n",
    "plt.plot(epochs, loss, 'bo', label='Training loss')\n",
    "plt.title('Loss vs. Epochs')\n",
    "plt.legend()\n",
    "\n",
    "plt.show()"
   ]
  },
  {
   "cell_type": "markdown",
   "metadata": {},
   "source": [
    "### Matriz de Confusión"
   ]
  },
  {
   "cell_type": "code",
   "execution_count": 81,
   "metadata": {},
   "outputs": [],
   "source": [
    "test_predictionsG = networkG.predict(test_images)"
   ]
  },
  {
   "cell_type": "code",
   "execution_count": 82,
   "metadata": {},
   "outputs": [],
   "source": [
    "confG = confusion_matrix(np.argmax(test_labels,axis=1), \n",
    "                             np.argmax(test_predictionsG,axis=1))"
   ]
  },
  {
   "cell_type": "code",
   "execution_count": 83,
   "metadata": {
    "scrolled": true
   },
   "outputs": [
    {
     "data": {
      "text/plain": [
       "<AxesSubplot:>"
      ]
     },
     "execution_count": 83,
     "metadata": {},
     "output_type": "execute_result"
    },
    {
     "data": {
      "image/png": "[encoded data removed]",
      "text/plain": [
       "<Figure size 432x288 with 2 Axes>"
      ]
     },
     "metadata": {
      "needs_background": "light"
     },
     "output_type": "display_data"
    }
   ],
   "source": [
    "sns.heatmap(confG, annot=True)"
   ]
  },
  {
   "cell_type": "markdown",
   "metadata": {},
   "source": [
    "## Dígito mejor clasificado (el del índice 1)"
   ]
  },
  {
   "cell_type": "code",
   "execution_count": 84,
   "metadata": {
    "scrolled": true
   },
   "outputs": [
    {
     "name": "stdout",
     "output_type": "stream",
     "text": [
      "              precision    recall  f1-score   support\n",
      "\n",
      "           0   0.947368  0.978008  0.962444       773\n",
      "           1   0.961915  0.976796  0.969298       905\n",
      "           2   0.920343  0.900480  0.910303       834\n",
      "           3   0.882423  0.925280  0.903343       803\n",
      "           4   0.916244  0.916244  0.916244       788\n",
      "           5   0.917647  0.863071  0.889522       723\n",
      "           6   0.930809  0.943122  0.936925       756\n",
      "           7   0.945736  0.900369  0.922495       813\n",
      "           8   0.888325  0.889454  0.888889       787\n",
      "           9   0.884198  0.896088  0.890103       818\n",
      "\n",
      "    accuracy                       0.919750      8000\n",
      "   macro avg   0.919501  0.918891  0.918957      8000\n",
      "weighted avg   0.919928  0.919750  0.919606      8000\n",
      "\n"
     ]
    },
    {
     "name": "stderr",
     "output_type": "stream",
     "text": [
      "/home/lornarthebreton/.local/lib/python3.8/site-packages/tensorflow/python/keras/engine/sequential.py:450: UserWarning: `model.predict_classes()` is deprecated and will be removed after 2021-01-01. Please use instead:* `np.argmax(model.predict(x), axis=-1)`,   if your model does multi-class classification   (e.g. if it uses a `softmax` last-layer activation).* `(model.predict(x) > 0.5).astype(\"int32\")`,   if your model does binary classification   (e.g. if it uses a `sigmoid` last-layer activation).\n",
      "  warnings.warn('`model.predict_classes()` is deprecated and '\n"
     ]
    }
   ],
   "source": [
    "y_test = np.argmax(test_labels, axis=1)\n",
    "y_pred = networkG.predict_classes(test_images)\n",
    "print(classification_report(y_test, y_pred,  digits=6))"
   ]
  },
  {
   "cell_type": "markdown",
   "metadata": {},
   "source": [
    "### Conclusiones"
   ]
  },
  {
   "cell_type": "markdown",
   "metadata": {},
   "source": [
    "El optimizador SGD sigue sin dar overfitting en sus resultados y, de hecho, aumentó su accuracy con la adición de neuronas a sus capas. Hasta ahora, es el único modelo que no cumple con la hipótesis planteada.\n",
    "\n",
    "Igualmente, como lo demuestra la gráfica Epochs vs. Loss, sigue la tendencia de las demás redes SGD de disminuir su pérdida en mayor magnitud mientras más capas tiene (aunque no tanto como su contraparte de 128 neuronas)."
   ]
  },
  {
   "cell_type": "markdown",
   "metadata": {},
   "source": [
    "## Red H: 2 capas de 512 neuronas - RMSProp"
   ]
  },
  {
   "cell_type": "code",
   "execution_count": 85,
   "metadata": {},
   "outputs": [],
   "source": [
    "networkH = models.Sequential()\n",
    "networkH.add(layers.Dense(512, activation='relu', input_shape=(28 * 28,)))\n",
    "networkH.add(layers.Dense(512, activation='relu', input_shape=(28 * 28,)))\n",
    "networkH.add(layers.Dense(10, activation='softmax'))"
   ]
  },
  {
   "cell_type": "code",
   "execution_count": 86,
   "metadata": {},
   "outputs": [],
   "source": [
    "networkH.compile(optimizer='rmsprop',\n",
    "                loss='categorical_crossentropy',\n",
    "                metrics=['accuracy'])"
   ]
  },
  {
   "cell_type": "code",
   "execution_count": 87,
   "metadata": {},
   "outputs": [
    {
     "name": "stdout",
     "output_type": "stream",
     "text": [
      "Epoch 1/5\n",
      "469/469 [==============================] - 2s 4ms/step - loss: 0.3970 - accuracy: 0.8763 - val_loss: 0.1138 - val_accuracy: 0.9610\n",
      "Epoch 2/5\n",
      "469/469 [==============================] - 2s 4ms/step - loss: 0.0841 - accuracy: 0.9746 - val_loss: 0.0547 - val_accuracy: 0.9825\n",
      "Epoch 3/5\n",
      "469/469 [==============================] - 2s 4ms/step - loss: 0.0530 - accuracy: 0.9831 - val_loss: 0.0621 - val_accuracy: 0.9815\n",
      "Epoch 4/5\n",
      "469/469 [==============================] - 2s 5ms/step - loss: 0.0347 - accuracy: 0.9892 - val_loss: 0.0667 - val_accuracy: 0.9835\n",
      "Epoch 5/5\n",
      "469/469 [==============================] - 2s 4ms/step - loss: 0.0264 - accuracy: 0.9917 - val_loss: 0.0495 - val_accuracy: 0.9885\n"
     ]
    }
   ],
   "source": [
    "historyH = networkH.fit(train_images, train_labels, \n",
    "                      epochs=5, batch_size=128,\n",
    "                     validation_data=(validation_images,validation_labels))"
   ]
  },
  {
   "cell_type": "code",
   "execution_count": 88,
   "metadata": {
    "scrolled": true
   },
   "outputs": [
    {
     "name": "stdout",
     "output_type": "stream",
     "text": [
      "250/250 [==============================] - 0s 1ms/step - loss: 0.0824 - accuracy: 0.9796\n"
     ]
    }
   ],
   "source": [
    "test_lossh, test_accH = networkH.evaluate(test_images, test_labels)"
   ]
  },
  {
   "cell_type": "markdown",
   "metadata": {},
   "source": [
    "### Accuracy"
   ]
  },
  {
   "cell_type": "code",
   "execution_count": 89,
   "metadata": {
    "scrolled": true
   },
   "outputs": [
    {
     "name": "stdout",
     "output_type": "stream",
     "text": [
      "test_acc: 0.9796249866485596\n"
     ]
    }
   ],
   "source": [
    "print('test_acc:', test_accH)"
   ]
  },
  {
   "cell_type": "markdown",
   "metadata": {},
   "source": [
    "### Loss vs. Epoch"
   ]
  },
  {
   "cell_type": "code",
   "execution_count": 90,
   "metadata": {
    "scrolled": true
   },
   "outputs": [
    {
     "data": {
      "image/png": "[encoded data removed]",
      "text/plain": [
       "<Figure size 432x288 with 1 Axes>"
      ]
     },
     "metadata": {
      "needs_background": "light"
     },
     "output_type": "display_data"
    },
    {
     "data": {
      "image/png": "[encoded data removed]",
      "text/plain": [
       "<Figure size 432x288 with 1 Axes>"
      ]
     },
     "metadata": {
      "needs_background": "light"
     },
     "output_type": "display_data"
    }
   ],
   "source": [
    "acc = historyH.history['accuracy']\n",
    "val_acc = historyH.history['val_accuracy']\n",
    "acc = historyH.history['accuracy']\n",
    "loss = historyH.history['loss']\n",
    "\n",
    "epochs = range(1, len(acc)+1)\n",
    "\n",
    "plt.plot(epochs, acc, 'bo', label='Training Acc')\n",
    "plt.plot(epochs, val_acc, 'b', label='Validation acc')\n",
    "plt.title('Training and validation accuracy')\n",
    "plt.legend()\n",
    "\n",
    "plt.figure()\n",
    "\n",
    "plt.plot(epochs, loss, 'bo', label='Training loss')\n",
    "plt.title('Loss vs. Epochs')\n",
    "plt.legend()\n",
    "\n",
    "plt.show()"
   ]
  },
  {
   "cell_type": "markdown",
   "metadata": {},
   "source": [
    "### Matriz de Confusión"
   ]
  },
  {
   "cell_type": "code",
   "execution_count": 91,
   "metadata": {},
   "outputs": [],
   "source": [
    "test_predictionsH = networkH.predict(test_images)"
   ]
  },
  {
   "cell_type": "code",
   "execution_count": 92,
   "metadata": {},
   "outputs": [],
   "source": [
    "confH = confusion_matrix(np.argmax(test_labels,axis=1), \n",
    "                             np.argmax(test_predictionsH,axis=1))"
   ]
  },
  {
   "cell_type": "code",
   "execution_count": 93,
   "metadata": {
    "scrolled": false
   },
   "outputs": [
    {
     "data": {
      "text/plain": [
       "<AxesSubplot:>"
      ]
     },
     "execution_count": 93,
     "metadata": {},
     "output_type": "execute_result"
    },
    {
     "data": {
      "image/png": "[encoded data removed]",
      "text/plain": [
       "<Figure size 432x288 with 2 Axes>"
      ]
     },
     "metadata": {
      "needs_background": "light"
     },
     "output_type": "display_data"
    }
   ],
   "source": [
    "sns.heatmap(confH, annot=True)"
   ]
  },
  {
   "cell_type": "markdown",
   "metadata": {},
   "source": [
    "## Dígito mejor clasificado (el del índice 1)"
   ]
  },
  {
   "cell_type": "code",
   "execution_count": 94,
   "metadata": {
    "scrolled": true
   },
   "outputs": [
    {
     "name": "stdout",
     "output_type": "stream",
     "text": [
      "              precision    recall  f1-score   support\n",
      "\n",
      "           0   0.989637  0.988357  0.988997       773\n",
      "           1   0.983553  0.991160  0.987342       905\n",
      "           2   0.972652  0.980815  0.976716       834\n",
      "           3   0.977556  0.976339  0.976947       803\n",
      "           4   0.979670  0.978426  0.979048       788\n",
      "           5   0.990113  0.969571  0.979734       723\n",
      "           6   0.982781  0.981481  0.982131       756\n",
      "           7   0.980296  0.979090  0.979692       813\n",
      "           8   0.969659  0.974587  0.972117       787\n",
      "           9   0.971951  0.974328  0.973138       818\n",
      "\n",
      "    accuracy                       0.979625      8000\n",
      "   macro avg   0.979787  0.979415  0.979586      8000\n",
      "weighted avg   0.979656  0.979625  0.979626      8000\n",
      "\n"
     ]
    },
    {
     "name": "stderr",
     "output_type": "stream",
     "text": [
      "/home/lornarthebreton/.local/lib/python3.8/site-packages/tensorflow/python/keras/engine/sequential.py:450: UserWarning: `model.predict_classes()` is deprecated and will be removed after 2021-01-01. Please use instead:* `np.argmax(model.predict(x), axis=-1)`,   if your model does multi-class classification   (e.g. if it uses a `softmax` last-layer activation).* `(model.predict(x) > 0.5).astype(\"int32\")`,   if your model does binary classification   (e.g. if it uses a `sigmoid` last-layer activation).\n",
      "  warnings.warn('`model.predict_classes()` is deprecated and '\n"
     ]
    }
   ],
   "source": [
    "y_test = np.argmax(test_labels, axis=1)\n",
    "y_pred = networkH.predict_classes(test_images)\n",
    "print(classification_report(y_test, y_pred,  digits=6))"
   ]
  },
  {
   "cell_type": "markdown",
   "metadata": {},
   "source": [
    "### Conclusiones"
   ]
  },
  {
   "cell_type": "markdown",
   "metadata": {},
   "source": [
    "Al igual que los otros modelos que utilizan el optimizados RMSdrop, aún tiene overfitting y no muestra una mejora significativa en la dismunición de la pérdida entre épocas."
   ]
  },
  {
   "cell_type": "markdown",
   "metadata": {},
   "source": [
    "## Tablas ROC"
   ]
  },
  {
   "cell_type": "code",
   "execution_count": 95,
   "metadata": {},
   "outputs": [],
   "source": [
    "from sklearn.metrics import roc_curve, auc\n",
    "from sklearn.metrics import roc_auc_score"
   ]
  },
  {
   "cell_type": "code",
   "execution_count": 96,
   "metadata": {},
   "outputs": [],
   "source": [
    "fpr=dict()\n",
    "tpr=dict()\n",
    "roc_auc = dict()\n",
    "fprA=dict()\n",
    "tprA=dict()\n",
    "roc_aucA = dict()\n",
    "fprB=dict()\n",
    "tprB=dict()\n",
    "roc_aucB = dict()\n",
    "fprC=dict()\n",
    "tprC=dict()\n",
    "roc_aucC = dict()\n",
    "fprD=dict()\n",
    "tprD=dict()\n",
    "roc_aucD = dict()\n",
    "fprE=dict()\n",
    "tprE=dict()\n",
    "roc_aucE = dict()\n",
    "fprF=dict()\n",
    "tprF=dict()\n",
    "roc_aucF = dict()\n",
    "fprG=dict()\n",
    "tprG=dict()\n",
    "roc_aucG = dict()\n",
    "fprH=dict()\n",
    "tprH=dict()\n",
    "roc_aucH = dict()\n",
    "for i in range(10):\n",
    "    fpr[i], tpr[i], _ = roc_curve(test_labels[:, i], \n",
    "                                  test_predictions[:, i])\n",
    "    roc_auc[i] = auc(fpr[i], tpr[i])\n",
    "    \n",
    "    fprA[i], tprA[i], _ = roc_curve(test_labels[:, i], \n",
    "                                  test_predictionsA[:, i])\n",
    "    roc_aucA[i] = auc(fprA[i], tprA[i])\n",
    "    \n",
    "    fprB[i], tprB[i], _ = roc_curve(test_labels[:, i], \n",
    "                                  test_predictionsB[:, i])\n",
    "    roc_aucB[i] = auc(fprB[i], tprB[i])\n",
    "    \n",
    "    fprC[i], tprC[i], _ = roc_curve(test_labels[:, i], \n",
    "                                  test_predictionsC[:, i])\n",
    "    roc_aucC[i] = auc(fprC[i], tprC[i])\n",
    "    \n",
    "    fprD[i], tprD[i], _ = roc_curve(test_labels[:, i], \n",
    "                                  test_predictionsD[:, i])\n",
    "    roc_aucD[i] = auc(fprD[i], tprD[i])\n",
    "    \n",
    "    fprE[i], tprE[i], _ = roc_curve(test_labels[:, i], \n",
    "                                  test_predictionsE[:, i])\n",
    "    roc_aucE[i] = auc(fprE[i], tprE[i])\n",
    "    \n",
    "    fprF[i], tprF[i], _ = roc_curve(test_labels[:, i], \n",
    "                                  test_predictionsF[:, i])\n",
    "    roc_aucF[i] = auc(fprF[i], tprF[i])\n",
    "    \n",
    "    fprG[i], tprG[i], _ = roc_curve(test_labels[:, i], \n",
    "                                  test_predictionsG[:, i])\n",
    "    roc_aucG[i] = auc(fprG[i], tprG[i])\n",
    "    \n",
    "    fprH[i], tprH[i], _ = roc_curve(test_labels[:, i], \n",
    "                                  test_predictionsH[:, i])\n",
    "    roc_aucH[i] = auc(fprH[i], tprH[i])"
   ]
  },
  {
   "cell_type": "code",
   "execution_count": 97,
   "metadata": {},
   "outputs": [
    {
     "data": {
      "image/png": "[encoded data removed]",
      "text/plain": [
       "<Figure size 432x288 with 1 Axes>"
      ]
     },
     "metadata": {
      "needs_background": "light"
     },
     "output_type": "display_data"
    }
   ],
   "source": [
    "plt.plot(fpr[i], tpr[i], label='Red Default'% roc_auc[2])\n",
    "plt.plot(fprA[i], tprA[i], label='Red A'% roc_aucA[2])\n",
    "plt.plot(fprB[i], tprB[i], label='Red B'% roc_aucB[2])\n",
    "plt.plot(fprC[i], tprC[i], label='Red C'% roc_aucC[2])\n",
    "plt.plot(fprD[i], tprD[i], label='Red D'% roc_aucD[2])\n",
    "plt.plot(fprE[i], tprE[i], label='Red E'% roc_aucE[2])\n",
    "plt.plot(fprF[i], tprF[i], label='Red F'% roc_aucF[2])\n",
    "plt.plot(fprG[i], tprG[i], label='Red G'% roc_aucG[2])\n",
    "plt.plot(fprH[i], tprH[i], label='Red H'% roc_aucH[2])\n",
    "plt.plot([0, 10], [0, 10], 'k--')\n",
    "plt.xlim([-0.05, 1.05])\n",
    "plt.ylim([0.0, 1.05])\n",
    "plt.xlabel('False Positive Rate')\n",
    "plt.ylabel('True Positive Rate')\n",
    "plt.title('Tabla ROC')\n",
    "plt.legend(loc=\"lower right\")\n",
    "\n",
    "\n",
    "plt.show()"
   ]
  },
  {
   "cell_type": "markdown",
   "metadata": {},
   "source": [
    "### Acercamiento"
   ]
  },
  {
   "cell_type": "code",
   "execution_count": 98,
   "metadata": {},
   "outputs": [
    {
     "data": {
      "image/png": "[encoded data removed]",
      "text/plain": [
       "<Figure size 432x288 with 1 Axes>"
      ]
     },
     "metadata": {
      "needs_background": "light"
     },
     "output_type": "display_data"
    }
   ],
   "source": [
    "plt.plot(fpr[i], tpr[i], label='Red Default'% roc_auc[2])\n",
    "plt.plot(fprA[i], tprA[i], label='Red A'% roc_aucA[2])\n",
    "plt.plot(fprB[i], tprB[i], label='Red B'% roc_aucB[2])\n",
    "plt.plot(fprC[i], tprC[i], label='Red C'% roc_aucC[2])\n",
    "plt.plot(fprD[i], tprD[i], label='Red D'% roc_aucD[2])\n",
    "plt.plot(fprE[i], tprE[i], label='Red E'% roc_aucE[2])\n",
    "plt.plot(fprF[i], tprF[i], label='Red F'% roc_aucF[2])\n",
    "plt.plot(fprG[i], tprG[i], label='Red G'% roc_aucG[2])\n",
    "plt.plot(fprH[i], tprH[i], label='Red H'% roc_aucH[2])\n",
    "plt.plot([0, 10], [0, 10], 'k--')\n",
    "plt.xlim([-0.01, 0.1])\n",
    "plt.ylim([0.85, 1.01])\n",
    "plt.xlabel('False Positive Rate')\n",
    "plt.ylabel('True Positive Rate')\n",
    "plt.title('Tabla ROC')\n",
    "plt.legend(loc=\"lower right\")\n",
    "\n",
    "plt.show()"
   ]
  },
  {
   "cell_type": "markdown",
   "metadata": {},
   "source": [
    "## Conclusiones"
   ]
  },
  {
   "cell_type": "markdown",
   "metadata": {},
   "source": [
    "Como se puede ver en la tabla ROC, la mejor clasificadora es la Red B (la de 512 neuronas, con Adam como optimizador). Dicho esto, las redes A, C, F, y H se le acercan. Las peores clasificadoras fueron las redes G, D y E (es decir, todas la redes que utilizan el optimizador SGD).\n",
    "\n",
    "Dicho esto, la mejor de las redes que utilizaban SGD fue la red G, la que tenía más neuronas y más capas por neuronas de las tres peores. Esto, aunado con el hecho de que las redes con el optimizador SGD eran las únicas sin overfitting y a las que no se les aplicaba la hipótesis mencionada anteriormente, lleva a considerar la posibilidad de que una red que utilice el optimizador SGD, pero que tenga más de dos capas, alcanzaría la acccuracy de las redes que utilizan Adam y RMSdrop, pero sin tener overfitting. \n",
    "\n",
    "Esta hipótesis es reforzada por el hecho de que las redes SGD son las que tienen la disminución de mayor magnitud en la pérdida entre cada época.\n",
    "\n",
    "Cabría probar esta última hipótesis en una computadora que no emita ruidos preocupantes cuando se ejecuta este notebook."
   ]
  }
 ],
 "metadata": {
  "kernelspec": {
   "display_name": "Python 3",
   "language": "python",
   "name": "python3"
  },
  "language_info": {
   "codemirror_mode": {
    "name": "ipython",
    "version": 3
   },
   "file_extension": ".py",
   "mimetype": "text/x-python",
   "name": "python",
   "nbconvert_exporter": "python",
   "pygments_lexer": "ipython3",
   "version": "3.8.6"
  }
 },
 "nbformat": 4,
 "nbformat_minor": 2
}
